{
 "cells": [
  {
   "cell_type": "markdown",
   "id": "0e4fbd4d-4b48-41f5-9fd0-6128b1b6a298",
   "metadata": {},
   "source": [
    "# Will it snow at the ESE 2024 Kongress?  "
   ]
  },
  {
   "cell_type": "markdown",
   "id": "d3befef9-7dd9-4fb8-9945-482d30ccdddf",
   "metadata": {},
   "source": [
    "Copyright 2024 by [Doulos](https://www.doulos.com)\n",
    "\n",
    "Licensed under the Apache License, Version 2.0 (the \"License\"); you may not use this file except in compliance with the License. You may obtain a copy of the License at:\\\n",
    "http://www.apache.org/licenses/LICENSE-2.0\n",
    "\n",
    "Unless required by applicable law or agreed to in writing, software distributed under the License is distributed on an \"AS IS\" BASIS, WITHOUT WARRANTIES OR CONDITIONS OF ANY KIND, either express or implied. See the License for the specific language governing permissions and limitations under the License."
   ]
  },
  {
   "cell_type": "markdown",
   "id": "28bb9153-5131-4670-9a99-690284c8e1be",
   "metadata": {},
   "source": [
    "## Part4- Quantization"
   ]
  },
  {
   "cell_type": "markdown",
   "id": "85ed0945-787a-4431-b6a6-9308174711b6",
   "metadata": {},
   "source": [
    "### Read test data (needed for quantization)"
   ]
  },
  {
   "cell_type": "code",
   "execution_count": 1,
   "id": "e18f5ca8-2aab-4eb5-9598-78d600cf3b9b",
   "metadata": {},
   "outputs": [],
   "source": [
    "import polars as pl\n",
    "import os\n",
    "\n",
    "path = \"dataset\"  # assume in dataset subfolder. Change as needed\n",
    "x_test = pl.read_parquet(os.path.join(path,\"x_test.parquet\"))\n",
    "y_test = pl.read_parquet(os.path.join(path,\"y_test.parquet\"))"
   ]
  },
  {
   "cell_type": "markdown",
   "id": "1b8e295c-29b9-4e03-af60-c6c125335e79",
   "metadata": {},
   "source": [
    "### Helper function for quantization parameters"
   ]
  },
  {
   "cell_type": "code",
   "execution_count": 2,
   "id": "ea7effe6-29c5-4a54-aa87-48f7347b2bed",
   "metadata": {},
   "outputs": [],
   "source": [
    "import tensorflow as tf\n",
    "\n",
    "def representative_data_gen():\n",
    "  data = tf.data.Dataset.from_tensor_slices(x_test)\n",
    "  for i_value in data:\n",
    "      i_value_f32 = tf.dtypes.cast(i_value, tf.float32)\n",
    "      yield [i_value_f32]"
   ]
  },
  {
   "cell_type": "markdown",
   "id": "e8cea978-3d51-4e63-aefe-02fa79795bd2",
   "metadata": {},
   "source": [
    "### Convert regular TF model to TFLite quantized model"
   ]
  },
  {
   "cell_type": "code",
   "execution_count": 3,
   "id": "ba432027-6e3a-4c63-b517-82aa33a472d2",
   "metadata": {},
   "outputs": [],
   "source": [
    "path=\"model\"\n",
    "converter = tf.lite.TFLiteConverter.from_saved_model(os.path.join(path,\"snow_forecast\"))\n",
    "converter.representative_dataset = representative_data_gen\n",
    "converter.optimizations = [tf.lite.Optimize.DEFAULT]\n",
    "converter.target_spec.supported_ops = [tf.lite.OpsSet.TFLITE_BUILTINS_INT8]\n",
    "converter.inference_input_type = tf.int8\n",
    "converter.inference_output_type = tf.int8"
   ]
  },
  {
   "cell_type": "code",
   "execution_count": 4,
   "id": "f8594784-617d-4990-b3af-b5517f1a7cf5",
   "metadata": {},
   "outputs": [],
   "source": [
    "tflite_model_quantized = converter.convert()"
   ]
  },
  {
   "cell_type": "markdown",
   "id": "24bdae3b-5b13-4b3f-8d49-987040253c2c",
   "metadata": {},
   "source": [
    "### Save the quantized model"
   ]
  },
  {
   "cell_type": "code",
   "execution_count": 5,
   "id": "7412eb73-f909-4901-bca7-c16dfb24924e",
   "metadata": {},
   "outputs": [],
   "source": [
    "tflite_quant_file = open(\"snow_model_quantized.tflite\", \"wb\")\n",
    "tflite_quant_file.write(tflite_model_quantized)\n",
    "tflite_quant_file.close()"
   ]
  },
  {
   "cell_type": "markdown",
   "id": "78934322-ae6e-402e-a3ae-d611e00150a2",
   "metadata": {},
   "source": [
    "### Save model as a C bytes array\n",
    "On Linux, we could simply use **xxd** for instance:\n",
    "```\n",
    "!xxd -i snow_model_quantized.tflite > model.cpp\n",
    "```\n",
    "\n",
    "On Windows, we could write a Python function."
   ]
  },
  {
   "cell_type": "code",
   "execution_count": 6,
   "id": "a6bcf56b-966d-48e1-9543-e9ef91fdd1b9",
   "metadata": {},
   "outputs": [],
   "source": [
    "def xxd_i(binfile, model_name=\"g_snow_detector\", cpp_name=\"model.cpp\"):\n",
    "    with open(binfile,'rb') as f:\n",
    "        data = f.read()\n",
    "\n",
    "    header_name = cpp_name.replace(\".cpp\",\".h\")\n",
    "    with open(cpp_name, 'w') as f:\n",
    "        print(f'#include \"{header_name}\"\\n', file=f)\n",
    "        print(f\"alignas(8) const unsigned char {model_name}[] = {{\", file=f)\n",
    "\n",
    "        # print the data in hex format grouping 12 bytes per line\n",
    "        group_length = 12\n",
    "        for i in range(0, len(data), group_length):\n",
    "            line=', '.join(f'0x{byte:02x}' for byte in data[i:i+group_length])\n",
    "            print(f'  {line},', file=f)\n",
    "        \n",
    "        print(\"};\", file=f)\n",
    "        print(f\"const int {model_name}_len = {len(data)};\", file=f)"
   ]
  },
  {
   "cell_type": "code",
   "execution_count": 7,
   "id": "74c6863a-2a13-4322-936d-9560b68f8fad",
   "metadata": {},
   "outputs": [],
   "source": [
    "xxd_i('snow_model_quantized.tflite')"
   ]
  },
  {
   "cell_type": "code",
   "execution_count": null,
   "id": "e3782143-61ed-4743-8c91-37a3069926b5",
   "metadata": {},
   "outputs": [],
   "source": []
  }
 ],
 "metadata": {
  "kernelspec": {
   "display_name": "Python 3 (ipykernel)",
   "language": "python",
   "name": "python3"
  },
  "language_info": {
   "codemirror_mode": {
    "name": "ipython",
    "version": 3
   },
   "file_extension": ".py",
   "mimetype": "text/x-python",
   "name": "python",
   "nbconvert_exporter": "python",
   "pygments_lexer": "ipython3",
   "version": "3.11.4"
  }
 },
 "nbformat": 4,
 "nbformat_minor": 5
}

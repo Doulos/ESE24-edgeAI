{
 "cells": [
  {
   "cell_type": "markdown",
   "id": "3406d3f0-3e91-4e9b-9fde-235f52f7905d",
   "metadata": {},
   "source": [
    "# Will it snow at the ESE 2024 Kongress?  "
   ]
  },
  {
   "cell_type": "markdown",
   "id": "b5432b4e-9f14-48fa-838f-d316e646f961",
   "metadata": {},
   "source": [
    "Copyright 2024 by [Doulos](https://www.doulos.com)\n",
    "\n",
    "Licensed under the Apache License, Version 2.0 (the \"License\"); you may not use this file except in compliance with the License. You may obtain a copy of the License at:\\\n",
    "http://www.apache.org/licenses/LICENSE-2.0\n",
    "\n",
    "Unless required by applicable law or agreed to in writing, software distributed under the License is distributed on an \"AS IS\" BASIS, WITHOUT WARRANTIES OR CONDITIONS OF ANY KIND, either express or implied. See the License for the specific language governing permissions and limitations under the License."
   ]
  },
  {
   "cell_type": "markdown",
   "id": "ca33b1f1-c87f-4b40-b00c-6f5f51f4eb07",
   "metadata": {},
   "source": [
    "[![Open In Colab](https://colab.research.google.com/assets/colab-badge.svg)](https://colab.research.google.com/github/doulos/ESE24-edgeAI/blob/main/5_TFU_perf.ipynb)"
   ]
  },
  {
   "cell_type": "markdown",
   "id": "e86a5fbd-b930-4ef7-9eaf-0fc0aac40e8a",
   "metadata": {},
   "source": [
    "## Part5- Verifying the Performance of the Quantized Model"
   ]
  },
  {
   "cell_type": "code",
   "execution_count": null,
   "id": "f146357a-1b41-450c-ab41-6a4dfa3f8975",
   "metadata": {},
   "outputs": [],
   "source": [
    "import os\n",
    "\n",
    "if os.getenv(\"COLAB_RELEASE_TAG\"):\n",
    "    # on colab\n",
    "    !wget https://github.com/Doulos/ESE24-edgeAI/raw/refs/heads/main/dataset/x_test.parquet\n",
    "    !wget https://github.com/Doulos/ESE24-edgeAI/raw/refs/heads/main/dataset/y_test.parquet\n",
    "    !wget https://github.com/Doulos/ESE24-edgeAI/raw/refs/heads/main/assets/model.tar.gz\n",
    "    !tar -xzvf /content/model.tar.gz\n",
    "    path = path_output = \"/content\"\n",
    "    path_model = os.path.join(path, \"model\")\n",
    "\n",
    "else:\n",
    "    # elsewhere, assume artefacts are in dataset/ relative to this notebook\n",
    "    path=\"dataset\"\n",
    "    path_model=\"model\"\n",
    "    path_output= \"\""
   ]
  },
  {
   "cell_type": "markdown",
   "id": "7cd49b88-2990-48be-92a4-8e5b091c328e",
   "metadata": {},
   "source": [
    "### Read test data"
   ]
  },
  {
   "cell_type": "code",
   "execution_count": 1,
   "id": "36564568-a1d8-4e66-a434-b13fdabad8e3",
   "metadata": {},
   "outputs": [],
   "source": [
    "import polars as pl\n",
    "import os \n",
    "\n",
    "x_test = pl.read_parquet(os.path.join(path,\"x_test.parquet\"))\n",
    "y_test = pl.read_parquet(os.path.join(path,\"y_test.parquet\"))"
   ]
  },
  {
   "cell_type": "markdown",
   "id": "a6ddf3b0-23dd-4b83-ace0-1bf8876a62a9",
   "metadata": {},
   "source": [
    "We load the layers from the disk, then recreate the corresponding model."
   ]
  },
  {
   "cell_type": "code",
   "execution_count": 2,
   "id": "a7db62d4-e2c4-4e39-bafa-c6edf46e7f28",
   "metadata": {},
   "outputs": [
    {
     "name": "stdout",
     "output_type": "stream",
     "text": [
      "WARNING:tensorflow:From C:\\Users\\ldomaigne\\Documents\\ESE24_workshop\\edgeAI\\venv\\Lib\\site-packages\\keras\\src\\backend\\tensorflow\\core.py:222: The name tf.placeholder is deprecated. Please use tf.compat.v1.placeholder instead.\n",
      "\n"
     ]
    }
   ],
   "source": [
    "import tensorflow.keras as keras\n",
    "\n",
    "layer = keras.layers.TFSMLayer(os.path.join(path_model,\"snow_forecast\"))\n",
    "input_layer = keras.Input(shape=(6,))\n",
    "output_layer = layer(input_layer)\n",
    "model = keras.Model(input_layer, output_layer)"
   ]
  },
  {
   "cell_type": "markdown",
   "id": "81672a4d-489f-4466-88a5-bdc2a2f8350f",
   "metadata": {},
   "source": [
    "### Load the Quantized TF lite model"
   ]
  },
  {
   "cell_type": "code",
   "execution_count": 3,
   "id": "222bb48a-c006-4071-a11e-d3f2917f20bb",
   "metadata": {},
   "outputs": [],
   "source": [
    "import tensorflow as tf\n",
    "import pprint"
   ]
  },
  {
   "cell_type": "code",
   "execution_count": 4,
   "id": "43988952-8693-4c3f-8f77-07d1903021b0",
   "metadata": {},
   "outputs": [],
   "source": [
    "interpreter = tf.lite.Interpreter(model_path=os.path.join(path_model,\"snow_model_quantized.tflite\"))\n",
    "interpreter.allocate_tensors()\n",
    "input_details = interpreter.get_input_details()[0]\n",
    "output_details = interpreter.get_output_details()[0]"
   ]
  },
  {
   "cell_type": "markdown",
   "id": "d208d005-ea56-48a1-813f-1f943b89c6d3",
   "metadata": {},
   "source": [
    "Get information about input and output tensor:"
   ]
  },
  {
   "cell_type": "code",
   "execution_count": 5,
   "id": "43f3fa16-6c3f-4943-9fe8-1ee26589480c",
   "metadata": {},
   "outputs": [
    {
     "name": "stdout",
     "output_type": "stream",
     "text": [
      "input_details = \n",
      "{'name': 'serving_default_keras_tensor:0',\n",
      " 'index': 0,\n",
      " 'shape': array([1, 6], dtype=int32),\n",
      " 'shape_signature': array([-1,  6], dtype=int32),\n",
      " 'dtype': <class 'numpy.int8'>,\n",
      " 'quantization': (0.024246428161859512, 2),\n",
      " 'quantization_parameters': {'scales': array([0.02424643], dtype=float32),\n",
      "                             'zero_points': array([2], dtype=int32),\n",
      "                             'quantized_dimension': 0},\n",
      " 'sparsity_parameters': {}}\n",
      "\n",
      "output details = \n",
      "{'name': 'StatefulPartitionedCall_1:0',\n",
      " 'index': 7,\n",
      " 'shape': array([1, 1], dtype=int32),\n",
      " 'shape_signature': array([-1,  1], dtype=int32),\n",
      " 'dtype': <class 'numpy.int8'>,\n",
      " 'quantization': (0.00390625, -128),\n",
      " 'quantization_parameters': {'scales': array([0.00390625], dtype=float32),\n",
      "                             'zero_points': array([-128], dtype=int32),\n",
      "                             'quantized_dimension': 0},\n",
      " 'sparsity_parameters': {}}\n"
     ]
    }
   ],
   "source": [
    "print(\"input_details = \")\n",
    "pprint.pp(input_details)\n",
    "print(\"\\noutput details = \")\n",
    "pprint.pp(output_details)"
   ]
  },
  {
   "cell_type": "markdown",
   "id": "2f29c6ec-2597-4277-8eaf-cd8e6dfb9690",
   "metadata": {},
   "source": [
    "### Exercise one prediction\n",
    "- We must quantized the input (because the quantized model is expecting int8)\n",
    "- We perform the inference\n",
    "- We convert back the predicted output (int8) to a float"
   ]
  },
  {
   "cell_type": "code",
   "execution_count": 6,
   "id": "dc40086a-9058-4ef7-9818-7414829235ba",
   "metadata": {},
   "outputs": [
    {
     "data": {
      "text/html": [
       "<div><style>\n",
       ".dataframe > thead > tr,\n",
       ".dataframe > tbody > tr {\n",
       "  text-align: right;\n",
       "  white-space: pre-wrap;\n",
       "}\n",
       "</style>\n",
       "<small>shape: (1, 6)</small><table border=\"1\" class=\"dataframe\"><thead><tr><th>t0</th><th>t1</th><th>t2</th><th>h0</th><th>h1</th><th>h2</th></tr><tr><td>f64</td><td>f64</td><td>f64</td><td>f64</td><td>f64</td><td>f64</td></tr></thead><tbody><tr><td>-1.88359</td><td>-1.920422</td><td>-1.969532</td><td>0.501863</td><td>0.501863</td><td>0.676021</td></tr></tbody></table></div>"
      ],
      "text/plain": [
       "shape: (1, 6)\n",
       "┌──────────┬───────────┬───────────┬──────────┬──────────┬──────────┐\n",
       "│ t0       ┆ t1        ┆ t2        ┆ h0       ┆ h1       ┆ h2       │\n",
       "│ ---      ┆ ---       ┆ ---       ┆ ---      ┆ ---      ┆ ---      │\n",
       "│ f64      ┆ f64       ┆ f64       ┆ f64      ┆ f64      ┆ f64      │\n",
       "╞══════════╪═══════════╪═══════════╪══════════╪══════════╪══════════╡\n",
       "│ -1.88359 ┆ -1.920422 ┆ -1.969532 ┆ 0.501863 ┆ 0.501863 ┆ 0.676021 │\n",
       "└──────────┴───────────┴───────────┴──────────┴──────────┴──────────┘"
      ]
     },
     "execution_count": 6,
     "metadata": {},
     "output_type": "execute_result"
    }
   ],
   "source": [
    "x_test[0]"
   ]
  },
  {
   "cell_type": "code",
   "execution_count": 7,
   "id": "eb9f485b-c290-4362-bb51-2256a1b76549",
   "metadata": {},
   "outputs": [
    {
     "data": {
      "text/html": [
       "<div><style>\n",
       ".dataframe > thead > tr,\n",
       ".dataframe > tbody > tr {\n",
       "  text-align: right;\n",
       "  white-space: pre-wrap;\n",
       "}\n",
       "</style>\n",
       "<small>shape: (1, 6)</small><table border=\"1\" class=\"dataframe\"><thead><tr><th>t0</th><th>t1</th><th>t2</th><th>h0</th><th>h1</th><th>h2</th></tr><tr><td>i8</td><td>i8</td><td>i8</td><td>i8</td><td>i8</td><td>i8</td></tr></thead><tbody><tr><td>-75</td><td>-77</td><td>-79</td><td>22</td><td>22</td><td>29</td></tr></tbody></table></div>"
      ],
      "text/plain": [
       "shape: (1, 6)\n",
       "┌─────┬─────┬─────┬─────┬─────┬─────┐\n",
       "│ t0  ┆ t1  ┆ t2  ┆ h0  ┆ h1  ┆ h2  │\n",
       "│ --- ┆ --- ┆ --- ┆ --- ┆ --- ┆ --- │\n",
       "│ i8  ┆ i8  ┆ i8  ┆ i8  ┆ i8  ┆ i8  │\n",
       "╞═════╪═════╪═════╪═════╪═════╪═════╡\n",
       "│ -75 ┆ -77 ┆ -79 ┆ 22  ┆ 22  ┆ 29  │\n",
       "└─────┴─────┴─────┴─────┴─────┴─────┘"
      ]
     },
     "execution_count": 7,
     "metadata": {},
     "output_type": "execute_result"
    }
   ],
   "source": [
    "in_scale, in_zero = input_details[\"quantization\"]\n",
    "xt = (x_test[0]/in_scale + in_zero).cast(pl.Int8)\n",
    "xt"
   ]
  },
  {
   "cell_type": "code",
   "execution_count": 8,
   "id": "bc65f37c-2974-4a3c-b432-8eaebabf8100",
   "metadata": {},
   "outputs": [
    {
     "data": {
      "text/plain": [
       "array([115], dtype=int8)"
      ]
     },
     "execution_count": 8,
     "metadata": {},
     "output_type": "execute_result"
    }
   ],
   "source": [
    "interpreter.set_tensor(input_details[\"index\"], xt)\n",
    "interpreter.invoke()\n",
    "pred = interpreter.get_tensor(output_details[\"index\"])[0]\n",
    "pred"
   ]
  },
  {
   "cell_type": "code",
   "execution_count": 9,
   "id": "7132fc32-3d76-4c8a-887a-489a7092dbff",
   "metadata": {},
   "outputs": [
    {
     "data": {
      "text/plain": [
       "0.94921875"
      ]
     },
     "execution_count": 9,
     "metadata": {},
     "output_type": "execute_result"
    }
   ],
   "source": [
    "out_scale, out_zero = output_details[\"quantization\"]\n",
    "(float(pred[0])-out_zero)*out_scale"
   ]
  },
  {
   "cell_type": "markdown",
   "id": "3d4a0c6c-bc65-4e1b-b677-c1448af626b7",
   "metadata": {},
   "source": [
    "**Note** We can save the rescaling from int to float for the output *for his particular model*.\\\n",
    "Indeed, for have a binary classification, with 0.5 being the threshold which corresponds to 0 in the quantized model."
   ]
  },
  {
   "cell_type": "code",
   "execution_count": 10,
   "id": "0f97bce3-ce4d-4c5d-a657-932943bbb96c",
   "metadata": {},
   "outputs": [
    {
     "name": "stdout",
     "output_type": "stream",
     "text": [
      "pred(float)=0.0 -> pred(int)= -128\n",
      "pred(float)=0.5 -> pred(int)=    0\n",
      "pred(float)=1.0 -> pred(int)=  128\n"
     ]
    }
   ],
   "source": [
    "for v in [0,0.5,1]:\n",
    "    print(f\"pred(float)={v:3.1f} -> pred(int)={int(v/out_scale+out_zero):>5}\")"
   ]
  },
  {
   "cell_type": "markdown",
   "id": "73765c73-9ec3-405b-b918-c0b5dd483506",
   "metadata": {},
   "source": [
    "### Compute predictions for each model on the test data"
   ]
  },
  {
   "cell_type": "markdown",
   "id": "55664771-b6d5-4fe4-b962-16f94588267d",
   "metadata": {},
   "source": [
    "#### full-blow model:"
   ]
  },
  {
   "cell_type": "code",
   "execution_count": 11,
   "id": "bef24b4b-98be-4c4d-a994-74c01a372f3d",
   "metadata": {},
   "outputs": [
    {
     "name": "stdout",
     "output_type": "stream",
     "text": [
      "\u001b[1m60/60\u001b[0m \u001b[32m━━━━━━━━━━━━━━━━━━━━\u001b[0m\u001b[37m\u001b[0m \u001b[1m0s\u001b[0m 2ms/step\n"
     ]
    }
   ],
   "source": [
    "y_test_pred = model.predict(x_test)\n",
    "y_test_pred = (y_test_pred > 0.5).astype(\"int32\")"
   ]
  },
  {
   "cell_type": "markdown",
   "id": "ed4b2481-ee9e-4e21-b063-22e890366d3b",
   "metadata": {},
   "source": [
    "#### quantized model:"
   ]
  },
  {
   "cell_type": "code",
   "execution_count": 12,
   "id": "2921ae96-a7d4-48c3-a1b4-073a8153b526",
   "metadata": {},
   "outputs": [],
   "source": [
    "import numpy as np\n",
    "def predict(x):\n",
    "    xt = (x/in_scale + in_zero).cast(pl.Int8)\n",
    "    interpreter.set_tensor(input_details[\"index\"], xt)\n",
    "    interpreter.invoke()\n",
    "    pred = interpreter.get_tensor(output_details[\"index\"])[0]\n",
    "    return pred[0]>0"
   ]
  },
  {
   "cell_type": "code",
   "execution_count": 13,
   "id": "8f4152df-064d-4410-adf5-f0fd22f8c109",
   "metadata": {},
   "outputs": [],
   "source": [
    "y_test_quant = np.zeros((x_test.shape[0],), dtype=int)\n",
    "for i in range(x_test.shape[0]):\n",
    "    y_test_quant[i] = int(predict(x_test[i]))"
   ]
  },
  {
   "cell_type": "markdown",
   "id": "1c5c6c17-9dcf-464b-bc23-dc8fdd51e633",
   "metadata": {},
   "source": [
    "### Compare performance full-blown vs quantized model"
   ]
  },
  {
   "cell_type": "markdown",
   "id": "cdd278f1-5620-41d3-919b-824ffaea0146",
   "metadata": {},
   "source": [
    "#### Helpers functions"
   ]
  },
  {
   "cell_type": "code",
   "execution_count": 14,
   "id": "7a26b29a-fc84-4113-bf77-b1483276a4ba",
   "metadata": {},
   "outputs": [],
   "source": [
    "import sklearn.metrics\n",
    "import matplotlib.pyplot as plt\n",
    "\n",
    "def show_confusion_matrix(cm, model_name=\"Confusion Matrix\"):\n",
    "    plt.imshow(cm, cmap='Blues', interpolation='nearest')\n",
    "    plt.colorbar(label='Samples')\n",
    "    plt.title(model_name)\n",
    "    plt.xticks(ticks=[0, 1], labels=['Predicted \"No Snow\"', ' Predicted \"Snow\"'])\n",
    "    plt.yticks(ticks=[0, 1], labels=[\"It's not snowing!\", \"It's snowing!\"])\n",
    "    plt.text(0,0,f\"{cm[0][0]} (TN)\", fontsize=12, color='white', ha='center')\n",
    "    plt.text(1,0,f\"{cm[0][1]} (FP)\", fontsize=12, color='black', ha='center')\n",
    "    plt.text(0,1,f\"{cm[1][0]} (FN)\", fontsize=12, color='black', ha='center')\n",
    "    plt.text(1,1,f\"{cm[1][1]} (TP)\", fontsize=12, color='white', ha='center')\n",
    "    plt.show()\n",
    "    \n",
    "def get_model_performance(model_name, y_test, y_test_pred, show_cm=True):\n",
    "    cm = sklearn.metrics.confusion_matrix(y_test, y_test_pred)\n",
    "    if (show_cm):\n",
    "        show_confusion_matrix(cm, model_name)\n",
    "    \n",
    "    TN = cm[0][0]\n",
    "    FN = cm[1][0]\n",
    "    TP = cm[1][1]\n",
    "    FP = cm[0][1]\n",
    "    accuracy  = (TP + TN) / (TP + TN + FN + FP)\n",
    "    recall = TP / (TP + FN)\n",
    "    precision = TP / (TP + FP)\n",
    "    f1_score = (2 * recall * precision) / (recall + precision)\n",
    "    return (accuracy, recall, precision, f1_score)"
   ]
  },
  {
   "cell_type": "markdown",
   "id": "645204fb-2dd1-4697-ac0e-02f24f228398",
   "metadata": {},
   "source": [
    "#### Show performance results"
   ]
  },
  {
   "cell_type": "code",
   "execution_count": 15,
   "id": "4c748af9-30f8-468e-a4e2-89393a1f0a5c",
   "metadata": {},
   "outputs": [
    {
     "data": {
      "image/png": "[encoded data removed]",
      "text/plain": [
       "<Figure size 640x480 with 2 Axes>"
      ]
     },
     "metadata": {},
     "output_type": "display_data"
    },
    {
     "data": {
      "image/png": "[encoded data removed]",
      "text/plain": [
       "<Figure size 640x480 with 2 Axes>"
      ]
     },
     "metadata": {},
     "output_type": "display_data"
    },
    {
     "name": "stdout",
     "output_type": "stream",
     "text": [
      "\n",
      "MODELS COMPARISON\n",
      "\n",
      "           :  ORIG   :  QUANT  :\n",
      "-----------+---------+---------+\n",
      "Accuracy   :  0.913  :  0.912  :\n",
      "Recall     :  0.971  :  0.962  :\n",
      "Precision  :  0.868  :  0.872  :\n",
      "F1-score   :  0.917  :  0.915  :\n"
     ]
    }
   ],
   "source": [
    "full_perf = get_model_performance(\"TF full-blown Model\", y_test, y_test_pred)\n",
    "quant_perf = get_model_performance(\"TFLite Quantized Model\", y_test, y_test_quant)\n",
    "\n",
    "metrics_name = ['Accuracy', 'Recall', 'Precision', 'F1-score']\n",
    "print(\"\\nMODELS COMPARISON\\n\")\n",
    "print(\"           :  ORIG   :  QUANT  :\")\n",
    "print(\"-----------+---------+---------+\")\n",
    "for m,orig,quant in zip(metrics_name, full_perf, quant_perf):\n",
    "    print(f\"{m:10} : {orig:^7.3f} : {quant:^7.3f} :\")"
   ]
  },
  {
   "cell_type": "code",
   "execution_count": null,
   "id": "e643d524-59f5-4d9f-8e65-b3e7d7926f6a",
   "metadata": {},
   "outputs": [],
   "source": []
  }
 ],
 "metadata": {
  "kernelspec": {
   "display_name": "Python 3 (ipykernel)",
   "language": "python",
   "name": "python3"
  },
  "language_info": {
   "codemirror_mode": {
    "name": "ipython",
    "version": 3
   },
   "file_extension": ".py",
   "mimetype": "text/x-python",
   "name": "python",
   "nbconvert_exporter": "python",
   "pygments_lexer": "ipython3",
   "version": "3.11.4"
  }
 },
 "nbformat": 4,
 "nbformat_minor": 5
}

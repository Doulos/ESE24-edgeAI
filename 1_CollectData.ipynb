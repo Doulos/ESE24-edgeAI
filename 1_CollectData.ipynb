{
 "cells": [
  {
   "cell_type": "markdown",
   "id": "8332b355-f0db-46d1-a4db-3be7c6a49c08",
   "metadata": {},
   "source": [
    "# Will it snow at the ESE 2024 Kongress?  "
   ]
  },
  {
   "cell_type": "markdown",
   "id": "a79eb2a5-0383-4f11-b1b1-66407032233a",
   "metadata": {},
   "source": [
    "Copyright 2024 by [Doulos](https://www.doulos.com)\n",
    "\n",
    "Licensed under the Apache License, Version 2.0 (the \"License\"); you may not use this file except in compliance with the License. You may obtain a copy of the License at:\\\n",
    "http://www.apache.org/licenses/LICENSE-2.0\n",
    "\n",
    "Unless required by applicable law or agreed to in writing, software distributed under the License is distributed on an \"AS IS\" BASIS, WITHOUT WARRANTIES OR CONDITIONS OF ANY KIND, either express or implied. See the License for the specific language governing permissions and limitations under the License."
   ]
  },
  {
   "cell_type": "markdown",
   "id": "cdb825f4-2908-4b0b-be6b-8a4baca8703d",
   "metadata": {},
   "source": [
    "## Part1- Getting the Data"
   ]
  },
  {
   "cell_type": "markdown",
   "id": "3a56d29d-a6a6-4693-9c80-bcff34554f5f",
   "metadata": {},
   "source": [
    "Install in your virtual environment the requires Python packages (*wetterdienst* and *tzdata*) in your for working with the DWD Observations data. \\\n",
    "Not needed if the packages are already installed."
   ]
  },
  {
   "cell_type": "code",
   "execution_count": 3,
   "id": "c75e20f4-d6d0-48e0-884a-4469de88ed68",
   "metadata": {},
   "outputs": [],
   "source": [
    "#uncomment the next line if needed\n",
    "#!pip install wetterdienst tzdata"
   ]
  },
  {
   "cell_type": "markdown",
   "id": "71b5c405-7d39-48a5-b4ea-cda3e841f06d",
   "metadata": {},
   "source": [
    "### Setting up Request"
   ]
  },
  {
   "cell_type": "code",
   "execution_count": 4,
   "id": "2b64d1d6-3b9d-4ccc-88bf-61d0e7287be9",
   "metadata": {},
   "outputs": [],
   "source": [
    "import polars as pl\n",
    "from wetterdienst import (Settings, Resolution, Period)\n",
    "from wetterdienst.provider.dwd.observation import DwdObservationRequest"
   ]
  },
  {
   "cell_type": "code",
   "execution_count": 5,
   "id": "4ac1e509-11f3-405b-8992-6704e2395bf8",
   "metadata": {},
   "outputs": [],
   "source": [
    "settings = Settings(\n",
    "    ts_shape=\"long\",    # use long format (teaching purpose)\n",
    "    ts_humanize=True,   # use human-redable name for features, instead of the technical DWD code\n",
    "    ts_si_units=False   # prefer Celsius and millimeters over Kelvin and meters. \n",
    ")"
   ]
  },
  {
   "cell_type": "markdown",
   "id": "2cd6900c-1cb1-4cd9-8429-fdfb361f7946",
   "metadata": {},
   "source": [
    "Request historical data for Stuttgart Echterdingen wetter station (4931)\n",
    "-  temperature, humidity, precipitation form and precipitation height\n",
    "-  resolution hourly\n",
    "-  from 1st Jan 2004 to 31 Dec 2023 (20 years)"
   ]
  },
  {
   "cell_type": "code",
   "execution_count": 6,
   "id": "8b3e7656-4ae4-40b9-a836-6d5851ff1933",
   "metadata": {},
   "outputs": [],
   "source": [
    "stuttgart_airport_dwdstation = 4931 # station Stuttgart Echterdingen (=airport)\n",
    "request = DwdObservationRequest(\n",
    "    parameter=[\n",
    "         \"TEMPERATURE_AIR_MEAN_2M\", # degrees Celsius (°C)\n",
    "          \"HUMIDITY\",               # percentage (%)\n",
    "          \"PRECIPITATION_FORM\",     # 0:no precipitation, 1:dew/forst, 2:rain only, 3:snow only, 6:rain+other, 7:snow+other, 8:rain+snow, 9:unknown\n",
    "          \"PRECIPITATION_HEIGHT\",   # millimeter (mm) \n",
    "    ],\n",
    "    resolution=\"hourly\",\n",
    "    start_date=\"2004-01-01\",\n",
    "    end_date=\"2024-01-01\",\n",
    "    settings=settings\n",
    ").filter_by_station_id(station_id=stuttgart_airport_dwdstation)"
   ]
  },
  {
   "cell_type": "markdown",
   "id": "cfc6348e-87cb-42d7-98e5-051f512d94d3",
   "metadata": {},
   "source": [
    "Quick check of the retrieved results"
   ]
  },
  {
   "cell_type": "code",
   "execution_count": 7,
   "id": "d166dde1-ddb4-42c2-bd29-256df4c72028",
   "metadata": {},
   "outputs": [
    {
     "data": {
      "text/plain": [
       "StationsResult(df=shape: (1, 8)\n",
       "┌────────────┬─────────────┬─────────────┬──────────┬───────────┬────────┬─────────────┬─────────────┐\n",
       "│ station_id ┆ start_date  ┆ end_date    ┆ latitude ┆ longitude ┆ height ┆ name        ┆ state       │\n",
       "│ ---        ┆ ---         ┆ ---         ┆ ---      ┆ ---       ┆ ---    ┆ ---         ┆ ---         │\n",
       "│ str        ┆ datetime[μs ┆ datetime[μs ┆ f64      ┆ f64       ┆ f64    ┆ str         ┆ str         │\n",
       "│            ┆ , UTC]      ┆ , UTC]      ┆          ┆           ┆        ┆             ┆             │\n",
       "╞════════════╪═════════════╪═════════════╪══════════╪═══════════╪════════╪═════════════╪═════════════╡\n",
       "│ 04931      ┆ 1988-01-01  ┆ 2024-11-28  ┆ 48.6883  ┆ 9.2235    ┆ 371.0  ┆ Stuttgart-E ┆ Baden-Württ │\n",
       "│            ┆ 00:00:00    ┆ 00:00:00    ┆          ┆           ┆        ┆ chterdingen ┆ emberg      │\n",
       "│            ┆ UTC         ┆ UTC         ┆          ┆           ┆        ┆             ┆             │\n",
       "└────────────┴─────────────┴─────────────┴──────────┴───────────┴────────┴─────────────┴─────────────┘)"
      ]
     },
     "execution_count": 7,
     "metadata": {},
     "output_type": "execute_result"
    }
   ],
   "source": [
    "request"
   ]
  },
  {
   "cell_type": "markdown",
   "id": "7d60725b-7530-4861-94da-bf3652327429",
   "metadata": {},
   "source": [
    "### Fetch the data\n",
    "Fetch the raw observation data and store to a file. That way, we can work locally.\n",
    "Polars (and pandas) supports export of dataframe in different format like CSV, Excel and some optimized formats for large data set (efficient storage, faster read/write operation) like HDF5 or parquet. "
   ]
  },
  {
   "cell_type": "code",
   "execution_count": 8,
   "id": "fc6c89db-af8b-446a-87bb-1080d2071e82",
   "metadata": {},
   "outputs": [],
   "source": [
    "raw_data = request.values.all().df\n",
    "raw_data.write_parquet(\"stuttgart_dwd.parquet\")"
   ]
  },
  {
   "cell_type": "markdown",
   "id": "3a9d172a-b31d-4523-aca7-e6c8bf72cfda",
   "metadata": {},
   "source": [
    "Quick look at the data structure. Can serve to double check the data loaded from disk"
   ]
  },
  {
   "cell_type": "code",
   "execution_count": 9,
   "id": "63aa0231-c17c-4e1a-9fa2-e440e37e25ba",
   "metadata": {},
   "outputs": [
    {
     "name": "stdout",
     "output_type": "stream",
     "text": [
      "\n",
      "shape  : (701284, 6)\n",
      "columns: ['station_id', 'dataset', 'parameter', 'date', 'value', 'quality'],\n",
      "null   : shape: (1, 6)\n",
      "┌────────────┬─────────┬───────────┬──────┬───────┬─────────┐\n",
      "│ station_id ┆ dataset ┆ parameter ┆ date ┆ value ┆ quality │\n",
      "│ ---        ┆ ---     ┆ ---       ┆ ---  ┆ ---   ┆ ---     │\n",
      "│ u32        ┆ u32     ┆ u32       ┆ u32  ┆ u32   ┆ u32     │\n",
      "╞════════════╪═════════╪═══════════╪══════╪═══════╪═════════╡\n",
      "│ 0          ┆ 0       ┆ 0         ┆ 0    ┆ 69273 ┆ 69273   │\n",
      "└────────────┴─────────┴───────────┴──────┴───────┴─────────┘\n",
      "\n"
     ]
    }
   ],
   "source": [
    "print(f\"\"\"\n",
    "shape  : {raw_data.shape}\n",
    "columns: {raw_data.columns},\n",
    "null   : {raw_data.null_count()}\n",
    "\"\"\")"
   ]
  },
  {
   "cell_type": "code",
   "execution_count": 8,
   "id": "f36fbdf5-4543-4d96-bed9-9164b335fafe",
   "metadata": {},
   "outputs": [
    {
     "data": {
      "text/html": [
       "<div><style>\n",
       ".dataframe > thead > tr,\n",
       ".dataframe > tbody > tr {\n",
       "  text-align: right;\n",
       "  white-space: pre-wrap;\n",
       "}\n",
       "</style>\n",
       "<small>shape: (701_284, 6)</small><table border=\"1\" class=\"dataframe\"><thead><tr><th>station_id</th><th>dataset</th><th>parameter</th><th>date</th><th>value</th><th>quality</th></tr><tr><td>str</td><td>str</td><td>str</td><td>datetime[μs, UTC]</td><td>f64</td><td>f64</td></tr></thead><tbody><tr><td>&quot;04931&quot;</td><td>&quot;precipitation&quot;</td><td>&quot;precipitation_form&quot;</td><td>2004-01-01 00:00:00 UTC</td><td>null</td><td>null</td></tr><tr><td>&quot;04931&quot;</td><td>&quot;precipitation&quot;</td><td>&quot;precipitation_form&quot;</td><td>2004-01-01 01:00:00 UTC</td><td>0.0</td><td>1.0</td></tr><tr><td>&quot;04931&quot;</td><td>&quot;precipitation&quot;</td><td>&quot;precipitation_form&quot;</td><td>2004-01-01 02:00:00 UTC</td><td>0.0</td><td>1.0</td></tr><tr><td>&quot;04931&quot;</td><td>&quot;precipitation&quot;</td><td>&quot;precipitation_form&quot;</td><td>2004-01-01 03:00:00 UTC</td><td>null</td><td>null</td></tr><tr><td>&quot;04931&quot;</td><td>&quot;precipitation&quot;</td><td>&quot;precipitation_form&quot;</td><td>2004-01-01 04:00:00 UTC</td><td>0.0</td><td>1.0</td></tr><tr><td>&hellip;</td><td>&hellip;</td><td>&hellip;</td><td>&hellip;</td><td>&hellip;</td><td>&hellip;</td></tr><tr><td>&quot;04931&quot;</td><td>&quot;temperature_air&quot;</td><td>&quot;temperature_air_mean_2m&quot;</td><td>2023-12-31 20:00:00 UTC</td><td>5.6</td><td>3.0</td></tr><tr><td>&quot;04931&quot;</td><td>&quot;temperature_air&quot;</td><td>&quot;temperature_air_mean_2m&quot;</td><td>2023-12-31 21:00:00 UTC</td><td>5.4</td><td>3.0</td></tr><tr><td>&quot;04931&quot;</td><td>&quot;temperature_air&quot;</td><td>&quot;temperature_air_mean_2m&quot;</td><td>2023-12-31 22:00:00 UTC</td><td>5.1</td><td>3.0</td></tr><tr><td>&quot;04931&quot;</td><td>&quot;temperature_air&quot;</td><td>&quot;temperature_air_mean_2m&quot;</td><td>2023-12-31 23:00:00 UTC</td><td>4.4</td><td>3.0</td></tr><tr><td>&quot;04931&quot;</td><td>&quot;temperature_air&quot;</td><td>&quot;temperature_air_mean_2m&quot;</td><td>2024-01-01 00:00:00 UTC</td><td>4.3</td><td>3.0</td></tr></tbody></table></div>"
      ],
      "text/plain": [
       "shape: (701_284, 6)\n",
       "┌────────────┬─────────────────┬─────────────────────────┬─────────────────────────┬───────┬─────────┐\n",
       "│ station_id ┆ dataset         ┆ parameter               ┆ date                    ┆ value ┆ quality │\n",
       "│ ---        ┆ ---             ┆ ---                     ┆ ---                     ┆ ---   ┆ ---     │\n",
       "│ str        ┆ str             ┆ str                     ┆ datetime[μs, UTC]       ┆ f64   ┆ f64     │\n",
       "╞════════════╪═════════════════╪═════════════════════════╪═════════════════════════╪═══════╪═════════╡\n",
       "│ 04931      ┆ precipitation   ┆ precipitation_form      ┆ 2004-01-01 00:00:00 UTC ┆ null  ┆ null    │\n",
       "│ 04931      ┆ precipitation   ┆ precipitation_form      ┆ 2004-01-01 01:00:00 UTC ┆ 0.0   ┆ 1.0     │\n",
       "│ 04931      ┆ precipitation   ┆ precipitation_form      ┆ 2004-01-01 02:00:00 UTC ┆ 0.0   ┆ 1.0     │\n",
       "│ 04931      ┆ precipitation   ┆ precipitation_form      ┆ 2004-01-01 03:00:00 UTC ┆ null  ┆ null    │\n",
       "│ 04931      ┆ precipitation   ┆ precipitation_form      ┆ 2004-01-01 04:00:00 UTC ┆ 0.0   ┆ 1.0     │\n",
       "│ …          ┆ …               ┆ …                       ┆ …                       ┆ …     ┆ …       │\n",
       "│ 04931      ┆ temperature_air ┆ temperature_air_mean_2m ┆ 2023-12-31 20:00:00 UTC ┆ 5.6   ┆ 3.0     │\n",
       "│ 04931      ┆ temperature_air ┆ temperature_air_mean_2m ┆ 2023-12-31 21:00:00 UTC ┆ 5.4   ┆ 3.0     │\n",
       "│ 04931      ┆ temperature_air ┆ temperature_air_mean_2m ┆ 2023-12-31 22:00:00 UTC ┆ 5.1   ┆ 3.0     │\n",
       "│ 04931      ┆ temperature_air ┆ temperature_air_mean_2m ┆ 2023-12-31 23:00:00 UTC ┆ 4.4   ┆ 3.0     │\n",
       "│ 04931      ┆ temperature_air ┆ temperature_air_mean_2m ┆ 2024-01-01 00:00:00 UTC ┆ 4.3   ┆ 3.0     │\n",
       "└────────────┴─────────────────┴─────────────────────────┴─────────────────────────┴───────┴─────────┘"
      ]
     },
     "execution_count": 8,
     "metadata": {},
     "output_type": "execute_result"
    }
   ],
   "source": [
    "raw_data"
   ]
  },
  {
   "cell_type": "code",
   "execution_count": null,
   "id": "dc679114-31cd-46b8-b04b-bc9ef358cecd",
   "metadata": {},
   "outputs": [],
   "source": []
  }
 ],
 "metadata": {
  "kernelspec": {
   "display_name": "Python 3 (ipykernel)",
   "language": "python",
   "name": "python3"
  },
  "language_info": {
   "codemirror_mode": {
    "name": "ipython",
    "version": 3
   },
   "file_extension": ".py",
   "mimetype": "text/x-python",
   "name": "python",
   "nbconvert_exporter": "python",
   "pygments_lexer": "ipython3",
   "version": "3.11.4"
  }
 },
 "nbformat": 4,
 "nbformat_minor": 5
}
